{
 "cells": [
  {
   "cell_type": "markdown",
   "metadata": {},
   "source": [
    "## Mathsolve - Photomath demo project"
   ]
  },
  {
   "cell_type": "markdown",
   "metadata": {},
   "source": [
    "The goal of this project is to make a model which would be able to detect handwritten math symbols on a picture. After detecting math symbols the app should be able to solve simple mathematical problem given on a picture (addition, subtraction, multiplication and divison)."
   ]
  },
  {
   "cell_type": "markdown",
   "metadata": {},
   "source": [
    "### Dataset preprocessing"
   ]
  },
  {
   "cell_type": "code",
   "execution_count": 1,
   "metadata": {},
   "outputs": [],
   "source": [
    "# import useful libraries\n",
    "import cv2 as cv\n",
    "import numpy as np\n",
    "import pandas as pd\n",
    "import os\n",
    "import PIL\n",
    "import pathlib\n",
    "import matplotlib.pyplot as plt"
   ]
  },
  {
   "cell_type": "code",
   "execution_count": 2,
   "metadata": {},
   "outputs": [],
   "source": [
    "# import tensorflow and keras\n",
    "import tensorflow as tf\n",
    "from tensorflow import keras\n",
    "from tensorflow.keras import layers\n",
    "from tensorflow.keras.models import Sequential"
   ]
  },
  {
   "cell_type": "markdown",
   "metadata": {},
   "source": [
    "Let's try to see how many images of each class do we have at our disposal."
   ]
  },
  {
   "cell_type": "code",
   "execution_count": 42,
   "metadata": {},
   "outputs": [],
   "source": [
    "# path to the main dataset directory\n",
    "dataset_main_path = r\"C:\\Users\\Korisnik\\git_workspace\\MathSolve\\dataset\""
   ]
  },
  {
   "cell_type": "code",
   "execution_count": 37,
   "metadata": {},
   "outputs": [
    {
     "name": "stdout",
     "output_type": "stream",
     "text": [
      "Number of classes:  19\n",
      "List of classes:\n",
      "['0', '1', '2', '3', '4', '5', '6', '7', '8', '9', 'add', 'dec', 'div', 'eq', 'mul', 'sub', 'x', 'y', 'z']\n"
     ]
    }
   ],
   "source": [
    "# list of classes present in the dataset\n",
    "dataset_classes = os.listdir(dataset_main_path)\n",
    "\n",
    "print('Number of classes: ', len(dataset_classes))\n",
    "print('List of classes:')\n",
    "print(dataset_classes)"
   ]
  },
  {
   "cell_type": "markdown",
   "metadata": {},
   "source": [
    "Now, let's try to see have many images each class consists of, and check if we have significant imbalance in the dataset."
   ]
  },
  {
   "cell_type": "code",
   "execution_count": 38,
   "metadata": {},
   "outputs": [
    {
     "name": "stdout",
     "output_type": "stream",
     "text": [
      "0 : 596\n",
      "1 : 562\n",
      "2 : 433\n",
      "3 : 541\n",
      "4 : 526\n",
      "5 : 433\n",
      "6 : 581\n",
      "7 : 533\n",
      "8 : 554\n",
      "9 : 547\n",
      "add : 596\n",
      "dec : 624\n",
      "div : 618\n",
      "eq : 634\n",
      "mul : 577\n",
      "sub : 655\n",
      "x : 452\n",
      "y : 399\n",
      "z : 212\n",
      "Mean value of images per class:  530\n"
     ]
    }
   ],
   "source": [
    "# dictionary which will contain images count of each class\n",
    "class_img_count = {}\n",
    "\n",
    "# total number of images\n",
    "total_img_count = 0\n",
    "\n",
    "# loop through classes and count number of images\n",
    "for item in dataset_classes:\n",
    "    current_class_path = dataset_main_path + '\\\\' + item\n",
    "    current_class_img_count = len(os.listdir(current_class_path))\n",
    "    class_img_count[item] = current_class_img_count\n",
    "    \n",
    "# print class image count for inspection\n",
    "for dataset_class in class_img_count:\n",
    "    print(dataset_class, ':', class_img_count[dataset_class])\n",
    "    \n",
    "# mean value of images per class\n",
    "for dataset_class in class_img_count:\n",
    "    total_img_count += class_img_count[dataset_class]\n",
    "    \n",
    "img_per_class_mean = int(total_img_count/len(dataset_classes))\n",
    "    \n",
    "print('Mean value of images per class: ', img_per_class_mean)"
   ]
  },
  {
   "cell_type": "markdown",
   "metadata": {},
   "source": [
    "From the output above it can be seen that majority of classes are well represented. Mean value of images per class is 530. Taking that into account we will try to handle classes that are under-sampled (classes which have less than 500 images). This will be done by augmentation and over-sampling of minority classes. Most problematic are classes 'y' and 'z'.  "
   ]
  },
  {
   "cell_type": "code",
   "execution_count": 39,
   "metadata": {},
   "outputs": [],
   "source": [
    "# set threshold for data augmentation at 500 \n",
    "threshold = 500"
   ]
  },
  {
   "cell_type": "code",
   "execution_count": 40,
   "metadata": {},
   "outputs": [
    {
     "data": {
      "image/png": "[encoded data removed]",
      "text/plain": [
       "<Figure size 576x720 with 1 Axes>"
      ]
     },
     "metadata": {
      "needs_background": "light"
     },
     "output_type": "display_data"
    }
   ],
   "source": [
    "# visualize dataset distribution\n",
    "plt.figure(figsize=(8,10))\n",
    "\n",
    "plt.bar(list(class_img_count.keys()), class_img_count.values(), color='b')\n",
    "plt.axhline(y=threshold,linewidth=1, color='r')\n",
    "plt.show()"
   ]
  },
  {
   "cell_type": "markdown",
   "metadata": {},
   "source": [
    "Now, let's write a function that will check image file types. It will count how many pictures of each class are PNG and JPG. Ultimately, we want to work with JPG so we will convert all PNGs to JPGs."
   ]
  },
  {
   "cell_type": "code",
   "execution_count": 41,
   "metadata": {},
   "outputs": [],
   "source": [
    "def count_JPG_PNG(path):\n",
    "    \"\"\"This function counts how many PNG and JPG formatted pictures there are\n",
    "    in the each class of the dataset.\n",
    "    \n",
    "    Args:\n",
    "        path (str): Root path of the dataset directory.\n",
    "    Returns:\n",
    "        dict: Nested dictionary with PNGs and JPGs counts.\n",
    "    \"\"\"\n",
    "    \n",
    "    jpg_png_count_dict = {}\n",
    "    \n",
    "    dataset_dir = pathlib.Path(path)\n",
    "    classes_subdir = [x for x in dataset_dir.iterdir() if x.is_dir()]\n",
    "    \n",
    "    for subdir in classes_subdir:\n",
    "        temp = {}\n",
    "        jpg_count = len(list(subdir.glob('**/*.jpg')))\n",
    "        png_count = len(list(subdir.glob('**/*.png')))\n",
    "        \n",
    "        temp['jpg'] = jpg_count\n",
    "        temp['png'] = png_count\n",
    "        \n",
    "        jpg_png_count_dict[str(subdir).split('\\\\')[-1]] = temp\n",
    "        \n",
    "    return jpg_png_count_dict"
   ]
  },
  {
   "cell_type": "code",
   "execution_count": 42,
   "metadata": {},
   "outputs": [],
   "source": [
    "counted_image_format_types = count_JPG_PNG(dataset_main_path)"
   ]
  },
  {
   "cell_type": "code",
   "execution_count": 43,
   "metadata": {},
   "outputs": [
    {
     "data": {
      "text/plain": [
       "{'0': {'jpg': 470, 'png': 126},\n",
       " '1': {'jpg': 487, 'png': 75},\n",
       " '2': {'jpg': 344, 'png': 89},\n",
       " '3': {'jpg': 414, 'png': 127},\n",
       " '4': {'jpg': 466, 'png': 60},\n",
       " '5': {'jpg': 269, 'png': 164},\n",
       " '6': {'jpg': 425, 'png': 156},\n",
       " '7': {'jpg': 465, 'png': 68},\n",
       " '8': {'jpg': 420, 'png': 134},\n",
       " '9': {'jpg': 374, 'png': 172},\n",
       " 'add': {'jpg': 567, 'png': 29},\n",
       " 'dec': {'jpg': 624, 'png': 0},\n",
       " 'div': {'jpg': 557, 'png': 61},\n",
       " 'eq': {'jpg': 630, 'png': 4},\n",
       " 'mul': {'jpg': 567, 'png': 10},\n",
       " 'sub': {'jpg': 625, 'png': 30},\n",
       " 'x': {'jpg': 0, 'png': 452},\n",
       " 'y': {'jpg': 0, 'png': 399},\n",
       " 'z': {'jpg': 0, 'png': 212}}"
      ]
     },
     "execution_count": 43,
     "metadata": {},
     "output_type": "execute_result"
    }
   ],
   "source": [
    "counted_image_format_types"
   ]
  },
  {
   "cell_type": "code",
   "execution_count": 44,
   "metadata": {},
   "outputs": [
    {
     "data": {
      "text/plain": [
       "<AxesSubplot:>"
      ]
     },
     "execution_count": 44,
     "metadata": {},
     "output_type": "execute_result"
    },
    {
     "data": {
      "image/png": "[encoded data removed]",
      "text/plain": [
       "<Figure size 720x576 with 1 Axes>"
      ]
     },
     "metadata": {
      "needs_background": "light"
     },
     "output_type": "display_data"
    }
   ],
   "source": [
    "# visualize image format types distribution accross classes\n",
    "df_from_dict = pd.DataFrame(counted_image_format_types)\n",
    "\n",
    "df_from_dict.transpose().plot.bar(figsize = (10, 8))"
   ]
  },
  {
   "cell_type": "markdown",
   "metadata": {},
   "source": [
    "Let's write a function that will convert PNG images to JPG, and delete all PNG images so that we are left only with JPGs."
   ]
  },
  {
   "cell_type": "code",
   "execution_count": 45,
   "metadata": {},
   "outputs": [],
   "source": [
    "def convert_to_JPG(path):\n",
    "    \"\"\"This function converts all PNG images found in subdirectories of root directory to JPG image. Then it deletes all\n",
    "    PNG images so only JPG images are left in subdirectories.\n",
    "    \n",
    "    Args:\n",
    "        path (str): Root path of the dataset directory.\n",
    "    \"\"\"\n",
    "    \n",
    "    dataset_dir = pathlib.Path(path)\n",
    "    png_list = list(dataset_dir.glob('**/*.png'))\n",
    "    \n",
    "    for png in png_list:\n",
    "        png_image = PIL.Image.open(png)\n",
    "        # convert RGBA (red-blue-green-alpha) to RGB (red-blue-green) => alpha means transparency\n",
    "        # we have to discard alpha channel to be able to save JPG\n",
    "        rgb_im = png_image.convert('RGB')\n",
    "        # path to save JPG image \n",
    "        save_path = str(png)[:-3]+'jpg'\n",
    "        # save as JPG to aboove save_path\n",
    "        rgb_im.save(save_path)\n",
    "        # remove processed png image \n",
    "        os.remove(png)"
   ]
  },
  {
   "cell_type": "code",
   "execution_count": 46,
   "metadata": {},
   "outputs": [],
   "source": [
    "# convert PNGs to JPG format\n",
    "convert_to_JPG(dataset_main_path)"
   ]
  },
  {
   "cell_type": "code",
   "execution_count": 47,
   "metadata": {},
   "outputs": [],
   "source": [
    "# count image format types after conversion\n",
    "counted_image_format_types_after = count_JPG_PNG(dataset_main_path)"
   ]
  },
  {
   "cell_type": "code",
   "execution_count": 48,
   "metadata": {},
   "outputs": [
    {
     "data": {
      "text/plain": [
       "{'0': {'jpg': 595, 'png': 0},\n",
       " '1': {'jpg': 562, 'png': 0},\n",
       " '2': {'jpg': 433, 'png': 0},\n",
       " '3': {'jpg': 541, 'png': 0},\n",
       " '4': {'jpg': 526, 'png': 0},\n",
       " '5': {'jpg': 433, 'png': 0},\n",
       " '6': {'jpg': 581, 'png': 0},\n",
       " '7': {'jpg': 533, 'png': 0},\n",
       " '8': {'jpg': 554, 'png': 0},\n",
       " '9': {'jpg': 546, 'png': 0},\n",
       " 'add': {'jpg': 596, 'png': 0},\n",
       " 'dec': {'jpg': 624, 'png': 0},\n",
       " 'div': {'jpg': 618, 'png': 0},\n",
       " 'eq': {'jpg': 634, 'png': 0},\n",
       " 'mul': {'jpg': 577, 'png': 0},\n",
       " 'sub': {'jpg': 655, 'png': 0},\n",
       " 'x': {'jpg': 452, 'png': 0},\n",
       " 'y': {'jpg': 399, 'png': 0},\n",
       " 'z': {'jpg': 212, 'png': 0}}"
      ]
     },
     "execution_count": 48,
     "metadata": {},
     "output_type": "execute_result"
    }
   ],
   "source": [
    "counted_image_format_types_after"
   ]
  },
  {
   "cell_type": "code",
   "execution_count": 49,
   "metadata": {},
   "outputs": [
    {
     "data": {
      "text/plain": [
       "<AxesSubplot:>"
      ]
     },
     "execution_count": 49,
     "metadata": {},
     "output_type": "execute_result"
    },
    {
     "data": {
      "image/png": "[encoded data removed]",
      "text/plain": [
       "<Figure size 720x576 with 1 Axes>"
      ]
     },
     "metadata": {
      "needs_background": "light"
     },
     "output_type": "display_data"
    }
   ],
   "source": [
    "# visualize image format types distribution accross classes after conversion\n",
    "df_from_dict_after = pd.DataFrame(counted_image_format_types_after)\n",
    "\n",
    "df_from_dict_after.transpose().plot.bar(figsize = (10, 8))"
   ]
  },
  {
   "cell_type": "markdown",
   "metadata": {},
   "source": [
    "Great, now we have consistent image format types to work with. Next, we will use data augmentation technique to handle classes with low number of image samples. The purpose of this is to get balanced classes in our dataset."
   ]
  },
  {
   "cell_type": "markdown",
   "metadata": {},
   "source": [
    "### Data augmentation "
   ]
  },
  {
   "cell_type": "code",
   "execution_count": 4,
   "metadata": {},
   "outputs": [],
   "source": [
    "# for data augmentation using python and Keras\n",
    "from keras.preprocessing.image import ImageDataGenerator, array_to_img, img_to_array, load_img"
   ]
  },
  {
   "cell_type": "markdown",
   "metadata": {},
   "source": [
    "We'll write a function that will be doing data augmentation for undersampled classes."
   ]
  },
  {
   "cell_type": "code",
   "execution_count": 47,
   "metadata": {},
   "outputs": [],
   "source": [
    "def augment_images(dataset_class, image, batch_size):\n",
    "    \"\"\"This function augments desired number of images to selected dataset class using ImageDataGenerator from keras.\n",
    "    Args:\n",
    "        dataset_class (str): dataset class to generate augmented images for.\n",
    "        image (str): Name and format type of the exact image from which to generate augmented images eg. \"image_name.jpg\"\n",
    "        batch_size (int): Number of images to be generated.\n",
    "    \"\"\"\n",
    "    dataset_path = r\"C:\\Users\\Korisnik\\git_workspace\\MathSolve\\dataset\"\n",
    "    save_prefix = \"keras_genrated\"\n",
    "    \n",
    "    # assembled path for directory where images will be generated with keras\n",
    "    generated_images_dir_path = dataset_path + \"\\\\\" + dataset_class\n",
    "    \n",
    "    #print(\"Checking for directory...\")\n",
    "    #if not os.path.isdir(generated_images_dir_path):\n",
    "        #print(\"Directory not found!\")\n",
    "    \n",
    "    datagen = ImageDataGenerator(rotation_range = 25,\n",
    "                                 width_shift_range = 0.3,\n",
    "                                 height_shift_range = 0.3,\n",
    "                                 shear_range = 0.3,\n",
    "                                 zoom_range = 0.3,\n",
    "                                 horizontal_flip = False, \n",
    "                                 fill_mode = 'nearest')\n",
    "    \n",
    "    img = load_img(dataset_path + \"\\\\\" + dataset_class + \"\\\\\" + image)  # this is a PIL image\n",
    "    #print(\"Image loaded!\")\n",
    "    x = img_to_array(img)  # this is a Numpy array with shape (3, 150, 150)\n",
    "    x = x.reshape((1,) + x.shape)  # this is a Numpy array with shape (1, 3, 150, 150)\n",
    "    \n",
    "    # the .flow() command below generates batches of randomly transformed images\n",
    "    # and saves the results to the `preview/` directory\n",
    "    i = 0\n",
    "    for batch in datagen.flow(x, \n",
    "                              batch_size = 1,\n",
    "                              save_to_dir = generated_images_dir_path, \n",
    "                              save_prefix = save_prefix, \n",
    "                              save_format = 'jpg'):\n",
    "        i += 1\n",
    "        if i > batch_size:\n",
    "            break  # otherwise the generator would loop indefinitely"
   ]
  },
  {
   "cell_type": "code",
   "execution_count": 48,
   "metadata": {},
   "outputs": [],
   "source": [
    "# generate augmented images for class \"2\" from image \"2gzFqiCT.jpg\"\n",
    "augment_images(\"2\", \"2gzFqiCT.jpg\", 100)\n",
    "\n",
    "# generate augmented images for class \"5\" from image \"0mKkrJd4.jpg\"\n",
    "augment_images(\"5\", \"0mKkrJd4.jpg\", 100)\n",
    "\n",
    "# generate augmented images for class \"x\" from image \"eJjI3qC4.jpg\"\n",
    "augment_images(\"x\", \"eJjI3qC4.jpg\", 100)\n",
    "\n",
    "# generate augmented images for class \"y\" from image \"xSeBvYdF.jpg\"\n",
    "augment_images(\"y\", \"xSeBvYdF.jpg\", 150)\n",
    "\n",
    "# generate augmented images for class \"z\" from image \"0GaQrphn.jpg\"\n",
    "augment_images(\"z\", \"0GaQrphn.jpg\", 350)"
   ]
  },
  {
   "cell_type": "code",
   "execution_count": 49,
   "metadata": {},
   "outputs": [],
   "source": [
    "# count image format types after augmentation \n",
    "counted_image_format_types_after_aug = count_JPG_PNG(dataset_main_path)"
   ]
  },
  {
   "cell_type": "code",
   "execution_count": 50,
   "metadata": {},
   "outputs": [
    {
     "data": {
      "text/plain": [
       "{'0': {'jpg': 595, 'png': 0},\n",
       " '1': {'jpg': 562, 'png': 0},\n",
       " '2': {'jpg': 534, 'png': 0},\n",
       " '3': {'jpg': 541, 'png': 0},\n",
       " '4': {'jpg': 526, 'png': 0},\n",
       " '5': {'jpg': 530, 'png': 0},\n",
       " '6': {'jpg': 581, 'png': 0},\n",
       " '7': {'jpg': 533, 'png': 0},\n",
       " '8': {'jpg': 554, 'png': 0},\n",
       " '9': {'jpg': 546, 'png': 0},\n",
       " 'add': {'jpg': 596, 'png': 0},\n",
       " 'dec': {'jpg': 624, 'png': 0},\n",
       " 'div': {'jpg': 618, 'png': 0},\n",
       " 'eq': {'jpg': 634, 'png': 0},\n",
       " 'mul': {'jpg': 577, 'png': 0},\n",
       " 'sub': {'jpg': 655, 'png': 0},\n",
       " 'x': {'jpg': 550, 'png': 0},\n",
       " 'y': {'jpg': 550, 'png': 0},\n",
       " 'z': {'jpg': 556, 'png': 0}}"
      ]
     },
     "execution_count": 50,
     "metadata": {},
     "output_type": "execute_result"
    }
   ],
   "source": [
    "counted_image_format_types_after_aug"
   ]
  },
  {
   "cell_type": "code",
   "execution_count": 52,
   "metadata": {},
   "outputs": [
    {
     "data": {
      "text/plain": [
       "<AxesSubplot:>"
      ]
     },
     "execution_count": 52,
     "metadata": {},
     "output_type": "execute_result"
    },
    {
     "data": {
      "image/png": "[encoded data removed]",
      "text/plain": [
       "<Figure size 720x576 with 1 Axes>"
      ]
     },
     "metadata": {
      "needs_background": "light"
     },
     "output_type": "display_data"
    }
   ],
   "source": [
    "# visualize image format types distribution accross classes after augmentation\n",
    "df_from_dict_after_aug = pd.DataFrame(counted_image_format_types_after_aug)\n",
    "\n",
    "df_from_dict_after_aug.transpose().plot.bar(figsize = (10, 8))"
   ]
  },
  {
   "cell_type": "markdown",
   "metadata": {},
   "source": [
    "Great, now we have much more balanced dataset."
   ]
  }
 ],
 "metadata": {
  "kernelspec": {
   "display_name": "Python 3",
   "language": "python",
   "name": "python3"
  },
  "language_info": {
   "codemirror_mode": {
    "name": "ipython",
    "version": 3
   },
   "file_extension": ".py",
   "mimetype": "text/x-python",
   "name": "python",
   "nbconvert_exporter": "python",
   "pygments_lexer": "ipython3",
   "version": "3.8.5"
  }
 },
 "nbformat": 4,
 "nbformat_minor": 4
}
